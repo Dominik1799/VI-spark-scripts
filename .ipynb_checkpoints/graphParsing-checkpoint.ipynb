{
 "cells": [
  {
   "cell_type": "code",
   "execution_count": 1,
   "id": "e57dc35c",
   "metadata": {},
   "outputs": [],
   "source": [
    "from graphframes import *\n",
    "from pyspark.sql.functions import explode\n",
    "from pyspark.sql.types import StringType\n",
    "from pyspark.sql.functions import UserDefinedFunction\n",
    "\n",
    "DATA = \"/data/sk_parsed.jl\""
   ]
  },
  {
   "cell_type": "code",
   "execution_count": 2,
   "id": "2a85cd14",
   "metadata": {
    "scrolled": true
   },
   "outputs": [
    {
     "name": "stdout",
     "output_type": "stream",
     "text": [
      "root\n",
      " |-- links: array (nullable = true)\n",
      " |    |-- element: string (containsNull = true)\n",
      " |-- redirect: string (nullable = true)\n",
      " |-- title: string (nullable = true)\n",
      "\n"
     ]
    }
   ],
   "source": [
    "df = spark.read.json(DATA)\n",
    "df.printSchema()"
   ]
  },
  {
   "cell_type": "code",
   "execution_count": 3,
   "id": "635d13e5",
   "metadata": {
    "scrolled": true
   },
   "outputs": [],
   "source": [
    "def set_redirects(article):\n",
    "    if article != \"link\":\n",
    "        return \"redirect\"\n",
    "    else:\n",
    "        return \"link\"\n",
    "\n",
    "edges_df = df.select(df.title, explode(df.links), df.redirect).selectExpr(\"title as src\", \"col as dst\", \"redirect as relationship\")\n",
    "vertices_df = df.selectExpr(\"title as id\", \"redirect as relationship\")\n",
    "vertices_df = vertices_df.fillna({\"relationship\": \"link\"})\n",
    "edges_df = edges_df.fillna({\"relationship\": \"link\"})\n",
    "udf = UserDefinedFunction(lambda x: set_redirects(x), StringType())\n",
    "edges_df = edges_df.select(*[udf(column).alias(\"relationship\") if column == \"relationship\" else column for column in edges_df.columns])\n",
    "vertices_df = vertices_df.select(*[udf(column).alias(\"relationship\") if column == \"relationship\" else column for column in vertices_df.columns])\n",
    "# g = GraphFrame(vertices_df, edges_df)\n",
    "# path = g.bfs(\"id = 'Slovensko'\", \"id = 'Donald Trump'\")\n",
    "# print(path.count())"
   ]
  },
  {
   "cell_type": "code",
   "execution_count": null,
   "id": "31e9d813",
   "metadata": {},
   "outputs": [],
   "source": [
    "vertices_df.write.mode(\"overwrite\").json(\"/data/output/vertices\")\n",
    "edges_df.write.mode(\"overwrite\").json(\"/data/output/edges\")"
   ]
  }
 ],
 "metadata": {
  "kernelspec": {
   "display_name": "Python 3",
   "language": "python",
   "name": "python3"
  },
  "language_info": {
   "codemirror_mode": {
    "name": "ipython",
    "version": 3
   },
   "file_extension": ".py",
   "mimetype": "text/x-python",
   "name": "python",
   "nbconvert_exporter": "python",
   "pygments_lexer": "ipython3",
   "version": "3.6.15"
  }
 },
 "nbformat": 4,
 "nbformat_minor": 5
}
