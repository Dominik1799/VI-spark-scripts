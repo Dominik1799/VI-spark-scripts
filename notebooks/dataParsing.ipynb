{
 "cells": [
  {
   "cell_type": "code",
   "execution_count": 1,
   "id": "2825907e",
   "metadata": {},
   "outputs": [
    {
     "ename": "ModuleNotFoundError",
     "evalue": "No module named 'graphframes'",
     "output_type": "error",
     "traceback": [
      "\u001b[0;31m---------------------------------------------------------------------------\u001b[0m",
      "\u001b[0;31mModuleNotFoundError\u001b[0m                       Traceback (most recent call last)",
      "\u001b[0;32m<ipython-input-1-02cbcaf60c0a>\u001b[0m in \u001b[0;36m<module>\u001b[0;34m\u001b[0m\n\u001b[0;32m----> 1\u001b[0;31m \u001b[0;32mfrom\u001b[0m \u001b[0mgraphframes\u001b[0m \u001b[0;32mimport\u001b[0m \u001b[0;34m*\u001b[0m\u001b[0;34m\u001b[0m\u001b[0;34m\u001b[0m\u001b[0m\n\u001b[0m",
      "\u001b[0;31mModuleNotFoundError\u001b[0m: No module named 'graphframes'"
     ]
    }
   ],
   "source": [
    "from graphframes import *"
   ]
  },
  {
   "cell_type": "code",
   "execution_count": 1,
   "id": "cc853d46",
   "metadata": {},
   "outputs": [
    {
     "name": "stderr",
     "output_type": "stream",
     "text": [
      "/opt/bitnami/spark/python/pyspark/context.py:238: FutureWarning: Python 3.6 support is deprecated in Spark 3.2.\n",
      "  FutureWarning\n"
     ]
    }
   ],
   "source": [
    "from pyspark.sql import SparkSession\n",
    "from pyspark.sql.functions import UserDefinedFunction\n",
    "from pyspark.sql.types import StringType\n",
    "from pyspark.sql.types import ArrayType\n",
    "import re\n",
    "import time\n",
    "\n",
    "start_time = time.time()\n",
    "spark = SparkSession.builder.master(\"spark://sparkmaster:7077\").appName(\"test\").getOrCreate()\n",
    "sc = spark.sparkContext"
   ]
  },
  {
   "cell_type": "code",
   "execution_count": 3,
   "id": "a5d7e8f3",
   "metadata": {},
   "outputs": [
    {
     "name": "stdout",
     "output_type": "stream",
     "text": [
      "/data/scripts\r\n"
     ]
    }
   ],
   "source": [
    "!pwd"
   ]
  },
  {
   "cell_type": "code",
   "execution_count": 2,
   "id": "f274cd2e",
   "metadata": {},
   "outputs": [],
   "source": [
    "# read XML, extract title, text and redirect. if not redirect, value is null\n",
    "initial_df = spark.read.format('xml').options(rowTag='page').load('/data/skwiki-pages-articles.xml')\n",
    "df = initial_df.selectExpr(\"title\", \"revision.text._VALUE as text\", \"redirect._title as redirect\")"
   ]
  },
  {
   "cell_type": "code",
   "execution_count": 3,
   "id": "a0cea0f1",
   "metadata": {
    "scrolled": false
   },
   "outputs": [],
   "source": [
    "# read all titles and replace all _ with spaces\n",
    "all_titles = spark.read.format(\"text\").load(\"/data/all_titles_sk.txt\")\n",
    "\n",
    "udf = UserDefinedFunction(lambda x: x.replace(\"_\", \" \"), StringType())\n",
    "all_titles = all_titles.select(*[udf(column).alias(\"value\") if column == \"value\" else column for column in all_titles.columns])\n",
    "# all_titles.show(11, truncate=False)"
   ]
  },
  {
   "cell_type": "code",
   "execution_count": 4,
   "id": "af456dca",
   "metadata": {},
   "outputs": [
    {
     "name": "stdout",
     "output_type": "stream",
     "text": [
      "+--------------+--------------------+--------------+\n",
      "|         title|                text|      redirect|\n",
      "+--------------+--------------------+--------------+\n",
      "|Hlavná stránka|<templatestyles s...|          null|\n",
      "|     Main Page|#REDIRECT [[Hlavn...|Hlavná stránka|\n",
      "|     Esperanto|{{Najlepší článok...|          null|\n",
      "|    Matematika|{{Substovaný info...|          null|\n",
      "|  Isaac Newton|{{Infobox Osobnos...|          null|\n",
      "+--------------+--------------------+--------------+\n",
      "only showing top 5 rows\n",
      "\n"
     ]
    }
   ],
   "source": [
    "# remove all articles that dont have title in all_titles dataset\n",
    "df = df.join(all_titles, df.title == all_titles.value).select(df[\"*\"])\n",
    "df.show(5)"
   ]
  },
  {
   "cell_type": "code",
   "execution_count": 5,
   "id": "16bf8f98",
   "metadata": {},
   "outputs": [],
   "source": [
    "wikipedia_namespaces = [\"User:\", \"Wikipedia:\", \"File:\", \"MediaWiki:\", \n",
    "                        \"Template:\", \"Help:\", \"Category:\", \"Portal:\", \n",
    "                        \"Draft:\", \"TimedText:\", \"Module:\", \"Gadget:\", \n",
    "                        \"Gadget: definition:\", \"Special:\", \"Media:\"]\n",
    "\n",
    "def extract_wikilinks(article):\n",
    "    all_wikilinks = []\n",
    "    for wikilink in re.findall(\"(\\[\\[.+?\\]\\])\", article):\n",
    "        wikilink = wikilink.replace(\"[[\", \"\").replace(\"]]\", \"\")  # tu bolo lower\n",
    "        is_namespace = False\n",
    "        for namespace in wikipedia_namespaces:\n",
    "            if wikilink.startswith(namespace):\n",
    "                is_namespace = True\n",
    "                break\n",
    "        if is_namespace:\n",
    "            continue\n",
    "        # https://en.wikipedia.org/wiki/Help:Wikitext#Wikilinks  <-- cleaning because of this\n",
    "        if \"|\" in wikilink:\n",
    "            wikilink = wikilink.split(\"|\")[0]\n",
    "        if \"#\" in wikilink:\n",
    "            wikilink = wikilink.split(\"#\")[0]\n",
    "        # NOTE: tu si kontroloval ci je wikilink v all_titles. Ale nejde to. Pri vyhladavani koncovom jednocuho pouzi all_titles set a z neho citaj veci ci tam su alebo nie az.\n",
    "        if wikilink != \"\": \n",
    "            all_wikilinks.append(wikilink)\n",
    "    return all_wikilinks\n",
    "\n",
    "\n",
    "\n",
    "udf = UserDefinedFunction(lambda x: extract_wikilinks(x), ArrayType(StringType()))\n",
    "df = df.select(*[udf(column).alias(\"text\") if column == \"text\" else column for column in df.columns])\n",
    "df = df.selectExpr(\"title\", \"text as links\", \"redirect\")\n",
    "# test.show(5)\n"
   ]
  },
  {
   "cell_type": "code",
   "execution_count": 18,
   "id": "e3a47f74",
   "metadata": {},
   "outputs": [
    {
     "data": {
      "text/plain": [
       "0"
      ]
     },
     "execution_count": 18,
     "metadata": {},
     "output_type": "execute_result"
    }
   ],
   "source": [
    "all_titles[all_titles[\"value\"] == \"asdasdd\"].count()"
   ]
  },
  {
   "cell_type": "code",
   "execution_count": 6,
   "id": "2faff0fd",
   "metadata": {},
   "outputs": [
    {
     "name": "stdout",
     "output_type": "stream",
     "text": [
      "131.79812622070312\n"
     ]
    }
   ],
   "source": [
    "df.write.mode(\"overwrite\").json(\"/data/output/main\")\n",
    "stop_time = time.time()\n",
    "print(stop_time - start_time)"
   ]
  }
 ],
 "metadata": {
  "kernelspec": {
   "display_name": "Python 3",
   "language": "python",
   "name": "python3"
  },
  "language_info": {
   "codemirror_mode": {
    "name": "ipython",
    "version": 3
   },
   "file_extension": ".py",
   "mimetype": "text/x-python",
   "name": "python",
   "nbconvert_exporter": "python",
   "pygments_lexer": "ipython3",
   "version": "3.6.15"
  }
 },
 "nbformat": 4,
 "nbformat_minor": 5
}
