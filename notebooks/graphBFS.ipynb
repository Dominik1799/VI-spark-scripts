{
 "cells": [
  {
   "cell_type": "code",
   "execution_count": 11,
   "id": "425a519e",
   "metadata": {},
   "outputs": [],
   "source": [
    "from graphframes import *\n",
    "import time\n",
    "\n",
    "\n",
    "DATA_LANGUAGE = \"sk\"\n",
    "\n",
    "VERTICES = \"/data/graphs/{lan}_vertices.jl\".format(lan=DATA_LANGUAGE)\n",
    "EDGES = \"/data/graphs/{lan}_edges.jl\".format(lan=DATA_LANGUAGE)"
   ]
  },
  {
   "cell_type": "code",
   "execution_count": 6,
   "id": "9d79126d",
   "metadata": {},
   "outputs": [],
   "source": [
    "vertices_df = spark.read.json(VERTICES)\n",
    "edges_df = spark.read.json(EDGES)\n",
    "\n",
    "g = GraphFrame(vertices_df, edges_df)"
   ]
  },
  {
   "cell_type": "code",
   "execution_count": 15,
   "id": "b215075e",
   "metadata": {},
   "outputs": [
    {
     "name": "stdout",
     "output_type": "stream",
     "text": [
      "113.29855608940125\n"
     ]
    }
   ],
   "source": [
    "path = g.bfs(\"id = 'Slovensko'\", \"id = 'Donald Trump'\").sample(False, 0.1, seed=0).limit(1)"
   ]
  },
  {
   "cell_type": "code",
   "execution_count": 18,
   "id": "01fc4543",
   "metadata": {},
   "outputs": [
    {
     "name": "stdout",
     "output_type": "stream",
     "text": [
      "root\n",
      " |-- from: struct (nullable = false)\n",
      " |    |-- id: string (nullable = true)\n",
      " |    |-- relationship: string (nullable = true)\n",
      " |-- e0: struct (nullable = false)\n",
      " |    |-- dst: string (nullable = true)\n",
      " |    |-- relationship: string (nullable = true)\n",
      " |    |-- src: string (nullable = true)\n",
      " |-- v1: struct (nullable = false)\n",
      " |    |-- id: string (nullable = true)\n",
      " |    |-- relationship: string (nullable = true)\n",
      " |-- e1: struct (nullable = false)\n",
      " |    |-- dst: string (nullable = true)\n",
      " |    |-- relationship: string (nullable = true)\n",
      " |    |-- src: string (nullable = true)\n",
      " |-- to: struct (nullable = false)\n",
      " |    |-- id: string (nullable = true)\n",
      " |    |-- relationship: string (nullable = true)\n",
      "\n"
     ]
    }
   ],
   "source": [
    "path.printSchema()"
   ]
  },
  {
   "cell_type": "code",
   "execution_count": 49,
   "id": "1b2ec248",
   "metadata": {},
   "outputs": [],
   "source": [
    "path.write.mode(\"overwrite\").json(\"/data/output/paths\")"
   ]
  }
 ],
 "metadata": {
  "kernelspec": {
   "display_name": "Python 3",
   "language": "python",
   "name": "python3"
  },
  "language_info": {
   "codemirror_mode": {
    "name": "ipython",
    "version": 3
   },
   "file_extension": ".py",
   "mimetype": "text/x-python",
   "name": "python",
   "nbconvert_exporter": "python",
   "pygments_lexer": "ipython3",
   "version": "3.6.15"
  }
 },
 "nbformat": 4,
 "nbformat_minor": 5
}
